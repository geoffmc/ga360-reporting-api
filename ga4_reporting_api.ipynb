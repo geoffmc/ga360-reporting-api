{
 "cells": [
  {
   "cell_type": "code",
   "execution_count": 114,
   "metadata": {},
   "outputs": [],
   "source": [
    "\"\"\"Hello Analytics Reporting API V4.\"\"\"\n",
    "\n",
    "from apiclient.discovery import build\n",
    "from oauth2client.service_account import ServiceAccountCredentials\n",
    "\n",
    "\n",
    "SCOPES = ['https://www.googleapis.com/auth/analytics.readonly']\n",
    "KEY_FILE_LOCATION = '[PLACEHOLDER_KEYFILE.json]'\n",
    "VIEW_ID = 'PLACEHOLDER_VIEW_ID'"
   ]
  },
  {
   "cell_type": "code",
   "execution_count": 115,
   "metadata": {},
   "outputs": [],
   "source": [
    "def initialize_analyticsreporting():\n",
    "  \"\"\"Initializes an Analytics Reporting API V4 service object.\n",
    "\n",
    "  Returns:\n",
    "    An authorized Analytics Reporting API V4 service object.\n",
    "  \"\"\"\n",
    "  credentials = ServiceAccountCredentials.from_json_keyfile_name(\n",
    "      KEY_FILE_LOCATION, SCOPES)\n",
    "\n",
    "  # Build the service object.\n",
    "  analytics = build('analyticsreporting', 'v4', credentials=credentials)\n",
    "\n",
    "  return analytics\n",
    "\n",
    "\n",
    "def get_report(analytics):\n",
    "  \"\"\"Queries the Analytics Reporting API V4.\n",
    "\n",
    "  Args:\n",
    "    analytics: An authorized Analytics Reporting API V4 service object.\n",
    "  Returns:\n",
    "    The Analytics Reporting API V4 response.\n",
    "  \"\"\"\n",
    "  return analytics.reports().batchGet(\n",
    "      body={\n",
    "        'reportRequests': [\n",
    "        {\n",
    "          'viewId': VIEW_ID,\n",
    "          'dateRanges': [{'startDate': '2020-11-01', 'endDate': '2020-11-01'}],\n",
    "          'metrics': [{'expression': 'ga:sessions'},\n",
    "                      {'expression': 'ga:pageviewsPerSession'},\n",
    "                      {'expression': 'ga:avgSessionDuration'},\n",
    "                      {'expression': 'ga:percentNewSessions'},\n",
    "                      {'expression': 'ga:bounceRate'},\n",
    "                      {'expression': 'ga:goalCompletionsAll'},\n",
    "                      {'expression': 'ga:transactionRevenue'},\n",
    "#                       {'expression': 'ga:goalValueAll'},\n",
    "#                       {'expression': 'ga:goalConversionRateAll'},\n",
    "#                       {'expression': 'ga:transactions'},\n",
    "#                       {'expression': 'ga:itemQuantity'},\n",
    "#                       {'expression': 'ga:transactionRevenue'},\n",
    "#                       {'expression': 'ga:avgTimeOnPage'},\n",
    "#                       {'expression': 'ga:pageviews'},\n",
    "#                       {'expression': 'ga:hits'},\n",
    "                     ],\n",
    "          'dimensions': [{'name': 'ga:dcmClickSitePlacement'}\n",
    "#                          {'name': 'ga:dcmLastEventAttributionType'}\n",
    "#                          {'name': 'ga:dcmClickSite'},\n",
    "#                          {'name': 'ga:dcmClickCampaign'},\n",
    "#                          {'name': 'ga:dcmClickCampaignId'},\n",
    "#                          {'name': 'ga:dcmClickCreative'},\n",
    "#                          {'name': 'ga:productName'},\n",
    "#                          {'name': 'ga:pagePathLevel1'},\n",
    "#                          {'name': 'ga:userAgeBracket'},\n",
    "#                          {'name': 'ga:userGender'},\n",
    "#                          {'name': 'ga:interestInMarketCategory'},\n",
    "#                          {'name': 'ga:interestAffinityCategory'}\n",
    "                        ]\n",
    "        }]\n",
    "      }\n",
    "  ).execute()\n",
    "\n",
    "\n",
    "\n",
    "\n",
    "def print_response(response):\n",
    "  \"\"\"Parses and prints the Analytics Reporting API V4 response.\n",
    "\n",
    "  Args:\n",
    "    response: An Analytics Reporting API V4 response.\n",
    "  \"\"\"\n",
    "  for report in response.get('reports', []):\n",
    "    columnHeader = report.get('columnHeader', {})\n",
    "    dimensionHeaders = columnHeader.get('dimensions', [])\n",
    "    metricHeaders = columnHeader.get('metricHeader', {}).get('metricHeaderEntries', [])\n",
    "\n",
    "    for row in report.get('data', {}).get('rows', []):\n",
    "      dimensions = row.get('dimensions', [])\n",
    "      dateRangeValues = row.get('metrics', [])\n",
    "\n",
    "      for header, dimension in zip(dimensionHeaders, dimensions):\n",
    "        print(header + ': ', dimension)\n",
    "\n",
    "      for i, values in enumerate(dateRangeValues):\n",
    "        print('Date range:', str(i))\n",
    "        for metricHeader, value in zip(metricHeaders, values.get('values')):\n",
    "          print(metricHeader.get('name') + ':', value)\n"
   ]
  },
  {
   "cell_type": "code",
   "execution_count": 116,
   "metadata": {},
   "outputs": [
    {
     "ename": "FileNotFoundError",
     "evalue": "[Errno 2] No such file or directory: '[PLACEHOLDER_KEYFILE.json]'",
     "output_type": "error",
     "traceback": [
      "\u001b[0;31m---------------------------------------------------------------------------\u001b[0m",
      "\u001b[0;31mFileNotFoundError\u001b[0m                         Traceback (most recent call last)",
      "\u001b[0;32m<ipython-input-116-d94ec9ec564e>\u001b[0m in \u001b[0;36m<module>\u001b[0;34m\u001b[0m\n\u001b[0;32m----> 1\u001b[0;31m \u001b[0manalytics\u001b[0m \u001b[0;34m=\u001b[0m \u001b[0minitialize_analyticsreporting\u001b[0m\u001b[0;34m(\u001b[0m\u001b[0;34m)\u001b[0m\u001b[0;34m\u001b[0m\u001b[0;34m\u001b[0m\u001b[0m\n\u001b[0m\u001b[1;32m      2\u001b[0m \u001b[0mresponse\u001b[0m \u001b[0;34m=\u001b[0m \u001b[0mget_report\u001b[0m\u001b[0;34m(\u001b[0m\u001b[0manalytics\u001b[0m\u001b[0;34m)\u001b[0m\u001b[0;34m\u001b[0m\u001b[0;34m\u001b[0m\u001b[0m\n\u001b[1;32m      3\u001b[0m \u001b[0mprint_response\u001b[0m\u001b[0;34m(\u001b[0m\u001b[0mresponse\u001b[0m\u001b[0;34m)\u001b[0m\u001b[0;34m\u001b[0m\u001b[0;34m\u001b[0m\u001b[0m\n",
      "\u001b[0;32m<ipython-input-115-2418fba0e59b>\u001b[0m in \u001b[0;36minitialize_analyticsreporting\u001b[0;34m()\u001b[0m\n\u001b[1;32m      6\u001b[0m   \"\"\"\n\u001b[1;32m      7\u001b[0m   credentials = ServiceAccountCredentials.from_json_keyfile_name(\n\u001b[0;32m----> 8\u001b[0;31m       KEY_FILE_LOCATION, SCOPES)\n\u001b[0m\u001b[1;32m      9\u001b[0m \u001b[0;34m\u001b[0m\u001b[0m\n\u001b[1;32m     10\u001b[0m   \u001b[0;31m# Build the service object.\u001b[0m\u001b[0;34m\u001b[0m\u001b[0;34m\u001b[0m\u001b[0;34m\u001b[0m\u001b[0m\n",
      "\u001b[0;32m/opt/conda/lib/python3.7/site-packages/oauth2client/service_account.py\u001b[0m in \u001b[0;36mfrom_json_keyfile_name\u001b[0;34m(cls, filename, scopes, token_uri, revoke_uri)\u001b[0m\n\u001b[1;32m    217\u001b[0m                 \u001b[0mthe\u001b[0m \u001b[0mkeyfile\u001b[0m\u001b[0;34m.\u001b[0m\u001b[0;34m\u001b[0m\u001b[0;34m\u001b[0m\u001b[0m\n\u001b[1;32m    218\u001b[0m         \"\"\"\n\u001b[0;32m--> 219\u001b[0;31m         \u001b[0;32mwith\u001b[0m \u001b[0mopen\u001b[0m\u001b[0;34m(\u001b[0m\u001b[0mfilename\u001b[0m\u001b[0;34m,\u001b[0m \u001b[0;34m'r'\u001b[0m\u001b[0;34m)\u001b[0m \u001b[0;32mas\u001b[0m \u001b[0mfile_obj\u001b[0m\u001b[0;34m:\u001b[0m\u001b[0;34m\u001b[0m\u001b[0;34m\u001b[0m\u001b[0m\n\u001b[0m\u001b[1;32m    220\u001b[0m             \u001b[0mclient_credentials\u001b[0m \u001b[0;34m=\u001b[0m \u001b[0mjson\u001b[0m\u001b[0;34m.\u001b[0m\u001b[0mload\u001b[0m\u001b[0;34m(\u001b[0m\u001b[0mfile_obj\u001b[0m\u001b[0;34m)\u001b[0m\u001b[0;34m\u001b[0m\u001b[0;34m\u001b[0m\u001b[0m\n\u001b[1;32m    221\u001b[0m         return cls._from_parsed_json_keyfile(client_credentials, scopes,\n",
      "\u001b[0;31mFileNotFoundError\u001b[0m: [Errno 2] No such file or directory: '[PLACEHOLDER_KEYFILE.json]'"
     ]
    }
   ],
   "source": [
    "analytics = initialize_analyticsreporting()\n",
    "response = get_report(analytics)\n",
    "print_response(response)"
   ]
  },
  {
   "cell_type": "code",
   "execution_count": 117,
   "metadata": {},
   "outputs": [
    {
     "name": "stdout",
     "output_type": "stream",
     "text": [
      "ga:sessions,ga:pageviewsPerSession,ga:avgSessionDuration,ga:percentNewSessions,ga:bounceRate,ga:goalCompletionsAll,ga:transactionRevenue\n"
     ]
    }
   ],
   "source": [
    "\n",
    "print(','.join([x['name'] for x in response['reports'][0]['columnHeader']['metricHeader']['metricHeaderEntries']]))\n",
    "# ','.join(response['reports'][0]['columnHeader']['metricHeader']['metricHeaderEntries']['name'])"
   ]
  },
  {
   "cell_type": "code",
   "execution_count": 118,
   "metadata": {},
   "outputs": [
    {
     "name": "stdout",
     "output_type": "stream",
     "text": [
      "2020-11-01,(not set),14,1.0714285714285714,8.357142857142858,50.0,92.85714285714286,28,0.0\n",
      "2020-11-01,Bags Placement 338 x 280,1,2.0,401.0,0.0,0.0,2,0.0\n",
      "2020-11-01,Drinkware 120x600,2,1.5,9.0,50.0,50.0,4,0.0\n",
      "2020-11-01,Office Placement 160x600,1,2.0,11.0,100.0,0.0,2,0.0\n",
      "2020-11-01,Placement Accessores 300 x 250,8,2.25,125.5,62.5,50.0,25,0.0\n",
      "2020-11-01,Placement Accessories 160 x 600,1,1.0,0.0,100.0,100.0,2,0.0\n",
      "2020-11-01,Placement Accessories 336 x 280,14,2.0,54.214285714285715,50.0,85.71428571428571,35,0.0\n",
      "2020-11-01,Placement Bags 300 x 250,8,1.0,0.0,50.0,100.0,16,0.0\n",
      "2020-11-01,Placement Drinkware 300x250,30,1.1,2.3666666666666667,73.33333333333333,93.33333333333333,63,0.0\n",
      "2020-11-01,Placement Elecronics 300 x 250,5,1.0,0.0,40.0,100.0,10,0.0\n",
      "2020-11-01,Placement Office 300x250,1,1.0,0.0,0.0,100.0,2,0.0\n",
      "2020-11-01,Placement Office 336x280,2,1.0,0.0,0.0,100.0,4,0.0\n"
     ]
    }
   ],
   "source": [
    "for row in response['reports'][0]['data']['rows']:\n",
    "    print(f\"2020-11-01,{row['dimensions'][0]},{','.join(row['metrics'][0]['values'])}\")"
   ]
  },
  {
   "cell_type": "code",
   "execution_count": null,
   "metadata": {},
   "outputs": [],
   "source": []
  },
  {
   "cell_type": "code",
   "execution_count": null,
   "metadata": {},
   "outputs": [],
   "source": []
  }
 ],
 "metadata": {
  "environment": {
   "name": "pytorch-gpu.1-6.m59",
   "type": "gcloud",
   "uri": "gcr.io/deeplearning-platform-release/pytorch-gpu.1-6:m59"
  },
  "kernelspec": {
   "display_name": "Python 3",
   "language": "python",
   "name": "python3"
  },
  "language_info": {
   "codemirror_mode": {
    "name": "ipython",
    "version": 3
   },
   "file_extension": ".py",
   "mimetype": "text/x-python",
   "name": "python",
   "nbconvert_exporter": "python",
   "pygments_lexer": "ipython3",
   "version": "3.7.8"
  }
 },
 "nbformat": 4,
 "nbformat_minor": 4
}
